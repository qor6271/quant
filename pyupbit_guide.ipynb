{
 "cells": [
  {
   "cell_type": "code",
   "execution_count": 57,
   "metadata": {},
   "outputs": [],
   "source": [
    "import numpy as np\n",
    "import pandas as pd\n",
    "import pyupbit\n",
    "from upbit_api_key import secret_key, access_key\n",
    "import time\n",
    "import datetime"
   ]
  },
  {
   "cell_type": "code",
   "execution_count": 2,
   "metadata": {},
   "outputs": [
    {
     "name": "stdout",
     "output_type": "stream",
     "text": [
      "<class 'pyupbit.exchange_api.Upbit'>\n"
     ]
    }
   ],
   "source": [
    "#upbit 실행 잘 되는지 테스트\n",
    "print(pyupbit.Upbit)"
   ]
  },
  {
   "cell_type": "code",
   "execution_count": 4,
   "metadata": {},
   "outputs": [
    {
     "name": "stdout",
     "output_type": "stream",
     "text": [
      "['KRW-BTC', 'KRW-ETH', 'KRW-NEO', 'KRW-MTL', 'KRW-LTC', 'KRW-XRP', 'KRW-ETC', 'KRW-OMG', 'KRW-SNT', 'KRW-WAVES', 'KRW-XEM', 'KRW-QTUM', 'KRW-LSK', 'KRW-STEEM', 'KRW-XLM', 'KRW-ARDR', 'KRW-ARK', 'KRW-STORJ', 'KRW-GRS', 'KRW-REP', 'KRW-ADA', 'KRW-SBD', 'KRW-POWR', 'KRW-BTG', 'KRW-ICX', 'KRW-EOS', 'KRW-TRX', 'KRW-SC', 'KRW-ONT', 'KRW-ZIL', 'KRW-POLY', 'KRW-ZRX', 'KRW-LOOM', 'KRW-BCH', 'KRW-BAT', 'KRW-IOST', 'KRW-RFR', 'KRW-CVC', 'KRW-IQ', 'KRW-IOTA', 'KRW-MFT', 'KRW-ONG', 'KRW-GAS', 'KRW-UPP', 'KRW-ELF', 'KRW-KNC', 'KRW-BSV', 'KRW-THETA', 'KRW-QKC', 'KRW-BTT', 'KRW-MOC', 'KRW-ENJ', 'KRW-TFUEL', 'KRW-MANA', 'KRW-ANKR', 'KRW-AERGO', 'KRW-ATOM', 'KRW-TT', 'KRW-CRE', 'KRW-MBL', 'KRW-WAXP', 'KRW-HBAR', 'KRW-MED', 'KRW-MLK', 'KRW-STPT', 'KRW-ORBS', 'KRW-VET', 'KRW-CHZ', 'KRW-STMX', 'KRW-DKA', 'KRW-HIVE', 'KRW-KAVA', 'KRW-AHT', 'KRW-LINK', 'KRW-XTZ', 'KRW-BORA', 'KRW-JST', 'KRW-CRO', 'KRW-TON', 'KRW-SXP', 'KRW-HUNT', 'KRW-PLA', 'KRW-DOT', 'KRW-SRM', 'KRW-MVL', 'KRW-STRAX', 'KRW-AQT', 'KRW-GLM', 'KRW-SSX', 'KRW-META', 'KRW-FCT2', 'KRW-CBK', 'KRW-SAND', 'KRW-HUM', 'KRW-DOGE', 'KRW-STRK', 'KRW-PUNDIX', 'KRW-FLOW', 'KRW-DAWN', 'KRW-AXS', 'KRW-STX', 'KRW-XEC', 'KRW-SOL', 'KRW-MATIC', 'KRW-NU', 'KRW-AAVE', 'KRW-1INCH', 'KRW-ALGO']\n"
     ]
    }
   ],
   "source": [
    "# 원화로 거래 가능한 가상화폐 목록\n",
    "tickers = pyupbit.get_tickers(fiat=\"KRW\")\n",
    "print(tickers)"
   ]
  },
  {
   "cell_type": "code",
   "execution_count": 9,
   "metadata": {},
   "outputs": [
    {
     "name": "stdout",
     "output_type": "stream",
     "text": [
      "62689000.0\n",
      "{'KRW-BTC': 62689000.0, 'KRW-ETH': 5421000.0}\n"
     ]
    }
   ],
   "source": [
    "# 비트코인 현재가격   (쓰는 방법: '{단위}-{원하는 가상화폐}')\n",
    "price = pyupbit.get_current_price(\"KRW-BTC\")\n",
    "print(price)\n",
    "#여러개 한번에\n",
    "prices = pyupbit.get_current_price(['KRW-BTC','KRW-ETH'])\n",
    "print(prices)"
   ]
  },
  {
   "cell_type": "code",
   "execution_count": 10,
   "metadata": {},
   "outputs": [
    {
     "name": "stdout",
     "output_type": "stream",
     "text": [
      "                           open        high         low       close  \\\n",
      "2021-05-23 09:00:00  47444000.0  48592000.0  39331000.0  42585000.0   \n",
      "2021-05-24 09:00:00  42585000.0  47452000.0  41253000.0  46963000.0   \n",
      "2021-05-25 09:00:00  46932000.0  49113000.0  45197000.0  47047000.0   \n",
      "2021-05-26 09:00:00  47067000.0  49081000.0  46265000.0  47325000.0   \n",
      "2021-05-27 09:00:00  47324000.0  48120000.0  45423000.0  46563000.0   \n",
      "...                         ...         ...         ...         ...   \n",
      "2021-12-04 09:00:00  68068000.0  68191000.0  56000000.0  62206000.0   \n",
      "2021-12-05 09:00:00  62178000.0  63297000.0  59685000.0  61877000.0   \n",
      "2021-12-06 09:00:00  61877000.0  63103000.0  59016000.0  62626000.0   \n",
      "2021-12-07 09:00:00  62632000.0  64120000.0  62316000.0  63204000.0   \n",
      "2021-12-08 09:00:00  63205000.0  63450000.0  62320000.0  62689000.0   \n",
      "\n",
      "                           volume         value  \n",
      "2021-05-23 09:00:00  27384.564127  1.183273e+12  \n",
      "2021-05-24 09:00:00  22353.309492  9.979479e+11  \n",
      "2021-05-25 09:00:00  15379.795809  7.197243e+11  \n",
      "2021-05-26 09:00:00  11383.217564  5.428985e+11  \n",
      "2021-05-27 09:00:00  10358.123730  4.853272e+11  \n",
      "...                           ...           ...  \n",
      "2021-12-04 09:00:00  28348.959143  1.757513e+12  \n",
      "2021-12-05 09:00:00  12124.693941  7.491888e+11  \n",
      "2021-12-06 09:00:00  11591.248465  7.035780e+11  \n",
      "2021-12-07 09:00:00   8054.477846  5.094399e+11  \n",
      "2021-12-08 09:00:00   2793.541451  1.757212e+11  \n",
      "\n",
      "[200 rows x 6 columns]\n"
     ]
    }
   ],
   "source": [
    "#시가, 고가, 저가, 종가, 거래량, 총거래금액\n",
    "df = pyupbit.get_ohlcv(\"KRW-BTC\")\n",
    "print(df)"
   ]
  },
  {
   "cell_type": "code",
   "execution_count": 19,
   "metadata": {},
   "outputs": [
    {
     "name": "stdout",
     "output_type": "stream",
     "text": [
      "{'ask_price': 62811000.0, 'bid_price': 62803000.0, 'ask_size': 0.02922907, 'bid_size': 0.02570214}\n",
      "{'ask_price': 62834000.0, 'bid_price': 62802000.0, 'ask_size': 0.10134697, 'bid_size': 0.09306749}\n",
      "{'ask_price': 62846000.0, 'bid_price': 62801000.0, 'ask_size': 0.6, 'bid_size': 0.17686911}\n",
      "{'ask_price': 62849000.0, 'bid_price': 62800000.0, 'ask_size': 0.24430279, 'bid_size': 0.37581938}\n",
      "{'ask_price': 62850000.0, 'bid_price': 62799000.0, 'ask_size': 1.85825143, 'bid_size': 0.00759714}\n",
      "{'ask_price': 62852000.0, 'bid_price': 62798000.0, 'ask_size': 0.01, 'bid_size': 0.01624255}\n",
      "{'ask_price': 62855000.0, 'bid_price': 62795000.0, 'ask_size': 0.01395623, 'bid_size': 0.02800515}\n",
      "{'ask_price': 62860000.0, 'bid_price': 62791000.0, 'ask_size': 0.00416269, 'bid_size': 0.00667023}\n",
      "{'ask_price': 62863000.0, 'bid_price': 62763000.0, 'ask_size': 0.14611816, 'bid_size': 0.00513688}\n",
      "{'ask_price': 62866000.0, 'bid_price': 62751000.0, 'ask_size': 0.00168067, 'bid_size': 0.01254965}\n",
      "{'ask_price': 62870000.0, 'bid_price': 62750000.0, 'ask_size': 0.02809262, 'bid_size': 0.01212211}\n",
      "{'ask_price': 62871000.0, 'bid_price': 62749000.0, 'ask_size': 0.00076748, 'bid_size': 0.001}\n",
      "{'ask_price': 62872000.0, 'bid_price': 62748000.0, 'ask_size': 0.01616044, 'bid_size': 0.254488}\n",
      "{'ask_price': 62876000.0, 'bid_price': 62747000.0, 'ask_size': 0.25629334, 'bid_size': 0.02804157}\n",
      "{'ask_price': 62877000.0, 'bid_price': 62743000.0, 'ask_size': 0.18614917, 'bid_size': 0.0039845}\n"
     ]
    }
   ],
   "source": [
    "#호가 , ask: 매도, bid: 매수\n",
    "\n",
    "orderbook = pyupbit.get_orderbook(\"KRW-BTC\")\n",
    "bids_asks = orderbook['orderbook_units']\n",
    "\n",
    "for bid_ask in bids_asks:\n",
    "    print(bid_ask)"
   ]
  },
  {
   "cell_type": "code",
   "execution_count": 34,
   "metadata": {},
   "outputs": [
    {
     "name": "stdout",
     "output_type": "stream",
     "text": [
      "[{'currency': 'KRW', 'balance': '9986.23569942', 'locked': '0.0', 'avg_buy_price': '0', 'avg_buy_price_modified': True, 'unit_currency': 'KRW'}]\n",
      "9986.23569942\n"
     ]
    }
   ],
   "source": [
    "# 잔고 확인\n",
    "upbit = pyupbit.Upbit(access_key, secret_key)\n",
    "print(upbit.get_balances())\n",
    "print(upbit.get_balance())"
   ]
  },
  {
   "cell_type": "code",
   "execution_count": 33,
   "metadata": {},
   "outputs": [
    {
     "name": "stdout",
     "output_type": "stream",
     "text": [
      "{'uuid': '15bc040a-b848-40e6-8ee0-7424c16d2d87', 'side': 'bid', 'ord_type': 'price', 'price': '5000.0', 'state': 'wait', 'market': 'KRW-BTC', 'created_at': '2021-12-08T18:35:39+09:00', 'volume': None, 'remaining_volume': None, 'reserved_fee': '2.5', 'remaining_fee': '2.5', 'paid_fee': '0.0', 'locked': '5002.5', 'executed_volume': '0.0', 'trades_count': 0}\n"
     ]
    }
   ],
   "source": [
    "#지정가매수,매도\n",
    "ret = upbit.buy_limit_order(\"KRW-BTC\", {매수가격},{주문수량})\n",
    "ret = upbit.sell_limit_order(\"KRW-BTC\", {매수가격},{주문수량})\n",
    "\n",
    "\n",
    "#시장가매수,매도\n",
    "ret = upbit.buy_market_order(\"KRW-BTC\", {주문총액})\n",
    "ret = upbit.sell_market_order(\"KRW-BTC\", {주문총액})\n",
    "print(ret)"
   ]
  },
  {
   "cell_type": "code",
   "execution_count": null,
   "metadata": {},
   "outputs": [],
   "source": [
    "#주문취소,  uuid는 ret['uuid'] 로 찾음\n",
    "ret = upbit.cancel_order({uuid})\n",
    "print(ret)"
   ]
  },
  {
   "cell_type": "code",
   "execution_count": null,
   "metadata": {},
   "outputs": [],
   "source": []
  }
 ],
 "metadata": {
  "interpreter": {
   "hash": "04e004d24ae3299f0079d37db714e5685133df832b5e017a06a3428b4896a100"
  },
  "kernelspec": {
   "display_name": "Python 3.8.8 64-bit ('base': conda)",
   "language": "python",
   "name": "python3"
  },
  "language_info": {
   "codemirror_mode": {
    "name": "ipython",
    "version": 3
   },
   "file_extension": ".py",
   "mimetype": "text/x-python",
   "name": "python",
   "nbconvert_exporter": "python",
   "pygments_lexer": "ipython3",
   "version": "3.8.8"
  },
  "orig_nbformat": 4
 },
 "nbformat": 4,
 "nbformat_minor": 2
}
