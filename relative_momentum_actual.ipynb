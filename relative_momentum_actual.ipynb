{
 "cells": [
  {
   "cell_type": "code",
   "execution_count": 1,
   "metadata": {},
   "outputs": [],
   "source": [
    "import pandas as pd\n",
    "import numpy as np\n",
    "from strategy.basic import rate_of_return, ratio_adjustment\n",
    "from backtest.Backtest import BackTesting\n",
    "from strategy.momentum import relative_momentum"
   ]
  },
  {
   "cell_type": "code",
   "execution_count": 2,
   "metadata": {},
   "outputs": [],
   "source": [
    "etf_price  = pd.read_csv('data_directory/etf_price.csv', header=[0,1], index_col=0)\n",
    "stock_price = pd.read_csv('data_directory/stock_price.csv', header=[0,1], index_col=0)\n",
    "\n",
    "etf_price.index = list(map(str, etf_price.index))\n",
    "stock_price.index = list(map(str, stock_price.index))"
   ]
  },
  {
   "cell_type": "code",
   "execution_count": 3,
   "metadata": {},
   "outputs": [],
   "source": [
    "korea_corporation = pd.read_csv('data_directory/korea_corporation.csv')\n",
    "korea_corporation = korea_corporation[korea_corporation['주식종류'] == '보통주']\n",
    "kospi = korea_corporation[korea_corporation['시장구분'] == 'KOSPI'][['단축코드','한글 종목약명']].reset_index(drop=True)\n",
    "kosdaq = korea_corporation[korea_corporation['시장구분'] == 'KOSDAQ'][['단축코드','한글 종목약명']].reset_index(drop=True)\n",
    "kospi_200 = pd.read_csv('data_directory/kospi_200.csv', index_col = 0)"
   ]
  },
  {
   "cell_type": "code",
   "execution_count": 4,
   "metadata": {},
   "outputs": [],
   "source": [
    "real_invest = relative_momentum(stocks = kospi_200['종목코드'], momentum_number = 10)"
   ]
  },
  {
   "cell_type": "code",
   "execution_count": 5,
   "metadata": {},
   "outputs": [],
   "source": [
    "real_invest.actual_investment(start='202011', end='20211119', price_df=stock_price)"
   ]
  },
  {
   "cell_type": "code",
   "execution_count": 6,
   "metadata": {},
   "outputs": [
    {
     "data": {
      "text/plain": [
       "Index(['A052690', 'A298050', 'A298020', 'A004490', 'A020150', 'A352820',\n",
       "       'A000150', 'A011200', 'A093370', 'A001230'],\n",
       "      dtype='object')"
      ]
     },
     "execution_count": 6,
     "metadata": {},
     "output_type": "execute_result"
    }
   ],
   "source": [
    "real_invest.actual_investment_stocks"
   ]
  },
  {
   "cell_type": "code",
   "execution_count": null,
   "metadata": {},
   "outputs": [],
   "source": []
  }
 ],
 "metadata": {
  "interpreter": {
   "hash": "01ae878847554e7088bad6917665938d15937173d450c3415b7bf6e6d2603b07"
  },
  "kernelspec": {
   "display_name": "Python 3.8.8 64-bit ('base': conda)",
   "name": "python3"
  },
  "language_info": {
   "codemirror_mode": {
    "name": "ipython",
    "version": 3
   },
   "file_extension": ".py",
   "mimetype": "text/x-python",
   "name": "python",
   "nbconvert_exporter": "python",
   "pygments_lexer": "ipython3",
   "version": "3.8.8"
  },
  "orig_nbformat": 4
 },
 "nbformat": 4,
 "nbformat_minor": 2
}
