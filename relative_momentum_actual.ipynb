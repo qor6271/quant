{
 "cells": [
  {
   "cell_type": "code",
   "execution_count": 1,
   "metadata": {},
   "outputs": [],
   "source": [
    "import pandas as pd\n",
    "import numpy as np\n",
    "from strategy.basic import rate_of_return, ratio_adjustment\n",
    "from backtest.Backtest import BackTesting\n",
    "from strategy.momentum import relative_momentum"
   ]
  },
  {
   "cell_type": "code",
   "execution_count": 2,
   "metadata": {},
   "outputs": [],
   "source": [
    "etf_price  = pd.read_csv('data_directory/etf_price.csv', header=[0,1], index_col=0)\n",
    "stock_price = pd.read_csv('data_directory/stock_price.csv', header=[0,1], index_col=0)\n",
    "\n",
    "etf_price.index = list(map(str, etf_price.index))\n",
    "stock_price.index = list(map(str, stock_price.index))"
   ]
  },
  {
   "cell_type": "code",
   "execution_count": 3,
   "metadata": {},
   "outputs": [],
   "source": [
    "korea_corporation = pd.read_csv('data_directory/korea_corporation.csv')\n",
    "korea_corporation = korea_corporation[korea_corporation['주식종류'] == '보통주']\n",
    "kospi = korea_corporation[korea_corporation['시장구분'] == 'KOSPI'][['단축코드','한글 종목약명']].reset_index(drop=True)\n",
    "kosdaq = korea_corporation[korea_corporation['시장구분'] == 'KOSDAQ'][['단축코드','한글 종목약명']].reset_index(drop=True)\n",
    "kospi_200 = pd.read_csv('data_directory/kospi_200.csv', index_col = 0)"
   ]
  },
  {
   "cell_type": "code",
   "execution_count": 4,
   "metadata": {},
   "outputs": [],
   "source": [
    "real_invest = relative_momentum(stocks = korea_corporation['단축코드'], momentum_number = 300)"
   ]
  },
  {
   "cell_type": "code",
   "execution_count": 5,
   "metadata": {},
   "outputs": [],
   "source": [
    "real_invest.actual_investment(start='201807', end='2021901', price_df=stock_price)"
   ]
  },
  {
   "cell_type": "code",
   "execution_count": 12,
   "metadata": {},
   "outputs": [
    {
     "name": "stdout",
     "output_type": "stream",
     "text": [
      "A051910\n"
     ]
    }
   ],
   "source": [
    "for code in real_invest.actual_investment_stocks:\n",
    "    if code in ['A197210', 'A080440','A258250','A224760','A009460','A001720','A051910','A003570','A033660','A176750']:\n",
    "        print(code)"
   ]
  },
  {
   "cell_type": "code",
   "execution_count": 10,
   "metadata": {},
   "outputs": [
    {
     "name": "stdout",
     "output_type": "stream",
     "text": [
      "A009460\n"
     ]
    }
   ],
   "source": []
  },
  {
   "cell_type": "code",
   "execution_count": null,
   "metadata": {},
   "outputs": [],
   "source": []
  }
 ],
 "metadata": {
  "interpreter": {
   "hash": "01ae878847554e7088bad6917665938d15937173d450c3415b7bf6e6d2603b07"
  },
  "kernelspec": {
   "display_name": "Python 3.8.8 64-bit ('base': conda)",
   "name": "python3"
  },
  "language_info": {
   "codemirror_mode": {
    "name": "ipython",
    "version": 3
   },
   "file_extension": ".py",
   "mimetype": "text/x-python",
   "name": "python",
   "nbconvert_exporter": "python",
   "pygments_lexer": "ipython3",
   "version": "3.8.8"
  },
  "orig_nbformat": 4
 },
 "nbformat": 4,
 "nbformat_minor": 2
}
