{
 "cells": [
  {
   "cell_type": "code",
   "execution_count": 1,
   "metadata": {},
   "outputs": [],
   "source": [
    "import numpy as np\n",
    "import pandas as pd\n",
    "import pyupbit"
   ]
  },
  {
   "cell_type": "code",
   "execution_count": null,
   "metadata": {},
   "outputs": [],
   "source": [
    "tickers = pyupbit.get_tickers(fiat=\"KRW\")\n",
    "\n",
    "for i, code in enumerate(tickers):\n",
    "    temp_df = pyupbit.get_ohlcv(code, count=2000)\n",
    "    temp_df.drop(columns='value', inplace=True)\n",
    "    temp_df.columns = [temp_df.columns, [code]*5]\n",
    "    if i == 0:\n",
    "        total_price = temp_df\n",
    "    else:\n",
    "        total_price = pd.merge(total_price,temp_df,how='outer',right_index=True,left_index=True)\n"
   ]
  },
  {
   "cell_type": "code",
   "execution_count": null,
   "metadata": {},
   "outputs": [],
   "source": [
    "total_price.to_csv('coin_price.csv')"
   ]
  },
  {
   "cell_type": "code",
   "execution_count": null,
   "metadata": {},
   "outputs": [],
   "source": []
  }
 ],
 "metadata": {
  "interpreter": {
   "hash": "04e004d24ae3299f0079d37db714e5685133df832b5e017a06a3428b4896a100"
  },
  "kernelspec": {
   "display_name": "Python 3.8.8 64-bit ('base': conda)",
   "language": "python",
   "name": "python3"
  },
  "language_info": {
   "codemirror_mode": {
    "name": "ipython",
    "version": 3
   },
   "file_extension": ".py",
   "mimetype": "text/x-python",
   "name": "python",
   "nbconvert_exporter": "python",
   "pygments_lexer": "ipython3",
   "version": "3.8.8"
  },
  "orig_nbformat": 4
 },
 "nbformat": 4,
 "nbformat_minor": 2
}
